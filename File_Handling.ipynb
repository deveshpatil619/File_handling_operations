{
 "cells": [
  {
   "cell_type": "code",
   "execution_count": 18,
   "id": "3863252f",
   "metadata": {},
   "outputs": [
    {
     "name": "stdout",
     "output_type": "stream",
     "text": [
      "File_exists\n"
     ]
    }
   ],
   "source": [
    "# create a empty text file\n",
    "# in current directory\n",
    "try:\n",
    "    if os.path.exists('sales.txt'):\n",
    "        print(\"File_exists\")\n",
    "    else:\n",
    "         fp = open('sales.txt', 'x')\n",
    "         fp.close()\n",
    "         print(\"New_file_created\")\n",
    "except IOError as e:\n",
    "    print(\"Error creating file:\", e)\n",
    "         "
   ]
  },
  {
   "cell_type": "code",
   "execution_count": 5,
   "id": "a09af99b",
   "metadata": {},
   "outputs": [],
   "source": [
    "## creating the file in write mode and then writing into the file\n",
    "\n",
    "fp = open('sale_1.txt', 'w')\n",
    "fp.write(\"first_line\")\n",
    "fp.close()"
   ]
  },
  {
   "cell_type": "code",
   "execution_count": 6,
   "id": "45b3fd80",
   "metadata": {},
   "outputs": [
    {
     "name": "stdout",
     "output_type": "stream",
     "text": [
      "['.ipynb_checkpoints', 'File_Handling.ipynb', 'OOPS.ipynb', 'purchase.txt', 'python-data-types.jpg', 'Python_datatypes.ipynb', 'sales.txt', 'sale_1.txt']\n",
      "True\n",
      "True\n"
     ]
    }
   ],
   "source": [
    "## Let’s verify our operation result.\n",
    "\n",
    "import os\n",
    "\n",
    "\n",
    "print(os.listdir()) ## to see all the files in the folder\n",
    "\n",
    "print(os.path.exists('sales.txt')) ## \n",
    "\n",
    "print(os.path.isfile('sale_1.txt')) ## "
   ]
  },
  {
   "cell_type": "code",
   "execution_count": 7,
   "id": "e667803f",
   "metadata": {},
   "outputs": [],
   "source": [
    "## creating file in specific directory\n",
    "\n",
    "with open('C:\\\\Users\\\\ASUS\\\\Desktop\\\\pandas-demo\\\\Python\\\\purchase.txt','w')  as fp:\n",
    "    fp.write(\"This is the first line of creating specific directory at given path\")\n",
    "    pass\n"
   ]
  },
  {
   "cell_type": "code",
   "execution_count": 8,
   "id": "ea22d25b",
   "metadata": {},
   "outputs": [
    {
     "name": "stdout",
     "output_type": "stream",
     "text": [
      "True\n"
     ]
    }
   ],
   "source": [
    "print(os.path.isfile('purchase.txt'))"
   ]
  },
  {
   "cell_type": "code",
   "execution_count": 19,
   "id": "2fd7ee08",
   "metadata": {},
   "outputs": [
    {
     "name": "stdout",
     "output_type": "stream",
     "text": [
      "File_exists at the location\n"
     ]
    }
   ],
   "source": [
    "## To check if file exists at location\n",
    "\n",
    "file_path = 'C:\\\\Users\\\\ASUS\\\\Desktop\\\\pandas-demo\\\\Python\\\\purchase.txt'\n",
    "if os.path.exists(file_path):\n",
    "    print(\"File_exists at the location\")\n",
    "else:\n",
    "    os.open('purchase.txt','w')\n",
    "    print(\"new_file_created\")\n",
    "    "
   ]
  },
  {
   "cell_type": "code",
   "execution_count": 9,
   "id": "a77d49ee",
   "metadata": {},
   "outputs": [
    {
     "name": "stdout",
     "output_type": "stream",
     "text": [
      "['%s_operator.docx', '@property.docx', 'Abstract_class.docx', 'Anonymous_lambda.docx', 'append_vs_extend_in_list.docx', 'Args,Kwargs.docx', 'Arguments.docx', 'Arrays.docx', 'asdict().docx', 'Assert_statement.docx', 'async_def.docx', 'Binary_search.docx', 'break, continue and pass.docx', 'bubble_sort.docx', 'Class,object_instance.docx', 'Constructer_inheritance.docx', 'Constructor,self,compare.docx', 'd@dataclasses.docx', 'Datatypes in python.docx', 'data_serialization.docx', 'Decorators.docx', 'enumerate()_function.docx', 'Errors & Exceptionhandling.docx', 'eval().docx', 'file_handling_operations.txt', 'Filter,map,reduce.docx', 'find()_function.docx', 'for.docx', 'format()_function.docx', 'Generators.docx', 'if elif else.docx', 'inner_class.docx', 'Input function.docx', 'input.txt', 'Iterators.docx', 'lambda()_function.docx', 'Linear_search.docx', 'Literals.docx', 'loadenv().docx', 'Local vs global variables.docx', 'Loop_control_statements.docx', 'math and cmath libraries.docx', 'Memory_Managment_Python.docx', 'methods, Accessors(getter), Mutators(setter).docx', 'methods.docx', 'Modules.docx', 'Multithreading.docx', 'named_tuple().docx', 'np.c_.docx', 'np.dot().docx', 'np.where().docx', 'numpy.docx', 'OOPS in python.docx', 'Operators in python.docx', 'Optional[str].docx', 'Package,module...etc.docx', 'parse_data.docx', 'pass,continue,break.docx', 'Polymorphism.docx', 'Python is object oriented.docx', 'PYTHON_COMPILD_OR_INTERPRETED!.docx', 'Range()_function.docx', 'Recursion.docx', 'return()_function.docx', 'selection_sort.docx', 'Self.docx', 'set().docx', 'Setter and Getter.docx', 'striptime()_date-function.docx', 'super()_function.docx', 'variables.docx', 'while.docx', '__dict__.docx', '__get__item__().docx', '__init__.docx', '__name__.docx', '~$ethods.docx', '~$eval().docx', '~$PS in python.docx', '~$riables.docx']\n"
     ]
    }
   ],
   "source": [
    "## listing the files at specific location\n",
    "\n",
    "print(os.listdir(r'C:\\Users\\ASUS\\Desktop\\Python\\Python_basics'))"
   ]
  },
  {
   "cell_type": "code",
   "execution_count": 10,
   "id": "d0a9446f",
   "metadata": {},
   "outputs": [],
   "source": [
    "## joining file at specified folder and writing into the file\n",
    "\n",
    "path = r'C:\\Users\\ASUS\\Desktop\\Python\\Python_basics'\n",
    "file_name = 'file_handling_operations.txt'\n",
    "\n",
    "\n",
    "with open(os.path.join(path,file_name),'w') as fp :\n",
    "    fp.writelines(\"This is the join operations\")\n",
    "\n",
    "\n",
    "\n"
   ]
  },
  {
   "cell_type": "code",
   "execution_count": 11,
   "id": "0fe9aaf2",
   "metadata": {},
   "outputs": [
    {
     "name": "stdout",
     "output_type": "stream",
     "text": [
      "['This is the join operations']\n"
     ]
    }
   ],
   "source": [
    "with open('C:\\\\Users\\\\ASUS\\\\Desktop\\\\Python\\\\Python_basics\\\\file_handling_operations.txt','r') as fp:\n",
    "    print(fp.readlines())"
   ]
  },
  {
   "cell_type": "code",
   "execution_count": 38,
   "id": "7547ef33",
   "metadata": {},
   "outputs": [
    {
     "name": "stdout",
     "output_type": "stream",
     "text": [
      "File already created\n"
     ]
    }
   ],
   "source": [
    "## creating the file with date-time\n",
    "\n",
    "from datetime import datetime\n",
    "\n",
    "datetime = datetime.now() ## current datetime\n",
    "try:\n",
    "    filename = datetime.strftime('logger_file_%d-%m-%Y.txt')\n",
    "    if os.path.exists(filename):\n",
    "        print(\"File already created\")\n",
    "    else:\n",
    "        with open(filename,'w') as fp:\n",
    "          print(\"created file with datetime\",filename)\n",
    "          print(os.listdir())\n",
    "except IOError as e:\n",
    "    print(\"Error creating file:\", e)\n",
    "\n",
    "\n",
    "          "
   ]
  },
  {
   "cell_type": "code",
   "execution_count": 43,
   "id": "8986cd41",
   "metadata": {},
   "outputs": [
    {
     "name": "stdout",
     "output_type": "stream",
     "text": [
      "created file-28-03-2023-16-03-28.txt\n",
      "['.ipynb_checkpoints', '28-03-2023.txt', 'file-28-03-2023-16-03-28.txt', 'File_Handling.ipynb', 'logger_file_28-03-2023.txt', 'OOPS.ipynb', 'purchase.txt', 'python-data-types.jpg', 'Python_datatypes.ipynb', 'sales.txt', 'sale_1.txt']\n"
     ]
    }
   ],
   "source": [
    "try:\n",
    "    file_name_2 = datetime.strftime('file-%d-%m-%Y-%H-%M-%S.txt')\n",
    "    if os.path.exists(file_name_2):\n",
    "        print(\"File already created\")\n",
    "    else:\n",
    "        with open(file_name_2, 'w') as fp:\n",
    "            print('created', file_name_2)\n",
    "except IOError as e:\n",
    "    print(\"Error creating file:\", e)\n",
    "    \n",
    "print(os.listdir())"
   ]
  },
  {
   "cell_type": "code",
   "execution_count": null,
   "id": "3b0597f6",
   "metadata": {},
   "outputs": [],
   "source": []
  },
  {
   "cell_type": "code",
   "execution_count": 50,
   "id": "e6fa8757",
   "metadata": {},
   "outputs": [
    {
     "name": "stdout",
     "output_type": "stream",
     "text": [
      "This is the first line of creating specific directory at given path\n"
     ]
    }
   ],
   "source": [
    "## reading the file  \n",
    "\n",
    "fp = open('purchase.txt','r')\n",
    "print(fp.read())\n",
    "\n",
    "fp.close()"
   ]
  },
  {
   "cell_type": "code",
   "execution_count": null,
   "id": "539c6489",
   "metadata": {},
   "outputs": [],
   "source": [
    "### Creating files with permissions"
   ]
  },
  {
   "cell_type": "code",
   "execution_count": 67,
   "id": "c314f814",
   "metadata": {},
   "outputs": [],
   "source": [
    "with open(os.open(\"Dev.txt\",os.O_CREAT | os.O_WRONLY,0o777), 'w') as fp:\n",
    "    fp.write(\"writeable\")\n",
    "#The 0o777 parameter passed to os.open sets the file permissions to 777 (read, write, and execute permissions for all users).\n",
    "# os.O_CREAT specifies that the file should be created if it does not exist, and os.O_WRONLY specifies that the file should\n",
    "# be opened in write mode"
   ]
  },
  {
   "cell_type": "code",
   "execution_count": 68,
   "id": "5cabdb14",
   "metadata": {},
   "outputs": [
    {
     "name": "stdout",
     "output_type": "stream",
     "text": [
      "['.ipynb_checkpoints', '28-03-2023.txt', 'Dev', 'Dev.txt', 'file-28-03-2023-16-03-28.txt', 'File_Handling.ipynb', 'logger_file_28-03-2023.txt', 'OOPS.ipynb', 'purchase.txt', 'python-data-types.jpg', 'Python_datatypes.ipynb', 'sales.txt', 'sale_1.txt']\n"
     ]
    }
   ],
   "source": [
    "    \n",
    "print(os.listdir())"
   ]
  },
  {
   "cell_type": "code",
   "execution_count": 69,
   "id": "6df43560",
   "metadata": {},
   "outputs": [
    {
     "name": "stdout",
     "output_type": "stream",
     "text": [
      "writeablehe first line of creating specific directory at given path\n"
     ]
    }
   ],
   "source": [
    "fp = open('Dev.txt','r')\n",
    "print(fp.read())"
   ]
  },
  {
   "cell_type": "code",
   "execution_count": 70,
   "id": "086d5764",
   "metadata": {},
   "outputs": [
    {
     "name": "stdout",
     "output_type": "stream",
     "text": [
      "No such file found. Please check the filename or path again\n",
      "Exiting\n"
     ]
    }
   ],
   "source": [
    "## reading from file and handling the file not found error\n",
    "\n",
    "try:\n",
    "    fp = open(\"lagging.txt\",'r')\n",
    "    print(fp.read())\n",
    "    fp.close()\n",
    "except IOError :\n",
    "    print(\"No such file found. Please check the filename or path again\")\n",
    "finally:\n",
    "    print(\"Exiting\")\n",
    "    \n",
    "    "
   ]
  },
  {
   "cell_type": "code",
   "execution_count": 71,
   "id": "8226a38a",
   "metadata": {},
   "outputs": [
    {
     "name": "stdout",
     "output_type": "stream",
     "text": [
      "['.ipynb_checkpoints', '28-03-2023.txt', 'Dev', 'Dev.txt', 'file-28-03-2023-16-03-28.txt', 'File_Handling.ipynb', 'logger_file_28-03-2023.txt', 'OOPS.ipynb', 'purchase.txt', 'python-data-types.jpg', 'Python_datatypes.ipynb', 'sales.txt', 'sale_1.txt']\n"
     ]
    }
   ],
   "source": [
    "print(os.listdir())"
   ]
  },
  {
   "cell_type": "code",
   "execution_count": 72,
   "id": "300b1e75",
   "metadata": {},
   "outputs": [
    {
     "name": "stdout",
     "output_type": "stream",
     "text": [
      "This is the first line of creating specific directory at given path\n"
     ]
    }
   ],
   "source": [
    "## opening multiple files with statements and reading them\n",
    "\n",
    "\n",
    "with open('purchase.txt','r',encoding='utf-8') as infile, open('Dev.txt','w',encoding='utf-8') as outfile:\n",
    "    for i in infile: ## lines in the purchase.txt\n",
    "        outfile.write(i) \n",
    "        \n",
    "## opening the file for reading\n",
    "\n",
    "\n",
    "f = open('Dev.txt','r') \n",
    "print(f.read())\n",
    "\n"
   ]
  },
  {
   "cell_type": "code",
   "execution_count": 96,
   "id": "d2b0c188",
   "metadata": {},
   "outputs": [
    {
     "name": "stdout",
     "output_type": "stream",
     "text": [
      "This is in read plus write mode\n"
     ]
    }
   ],
   "source": [
    "## Opening a File for multiple operations in r+ mode\n",
    "\n",
    "\n",
    "with open(\"example.txt\",'r+') as fp:\n",
    "        fp.write(\"This is in read plus write mode\")\n",
    "        \n",
    "        ## reading the file\n",
    "        print(fp.readline())"
   ]
  },
  {
   "cell_type": "code",
   "execution_count": 102,
   "id": "61131ec8",
   "metadata": {},
   "outputs": [
    {
     "name": "stdout",
     "output_type": "stream",
     "text": [
      "[b'\\x00\\x05Slick\\x00\\x00\\x00\\x00\\x00\\x00\\x00\\x00\\x00\\x00\\x00\\x00\\x00\\x00\\x00\\x00\\x00\\x00\\x00\\x00\\x00\\x00\\x00\\x00\\x00\\x00\\x00\\x00\\x00\\x00\\x00\\x00\\x00\\x00\\x00\\x00\\x00\\x00\\x00\\x00\\x00\\x00\\x00\\x00\\x00\\x00\\x00\\x00\\x00\\x00\\x00\\x00\\x00\\x00\\x00\\x00\\x00\\x00LWFNGWp1\\x00\\x00\\x00\\x00\\x00\\x00\\x00\\x00\\x00\\x00\\x00\\x00\\x00\\x00\\x00\\x00 \\xa2]\\xeb\\t\\xba]\\xeb\\t\\xba\\x00\\x00\\x00mBIN\\x00\\x00\\x00\\x00\\x00\\x00\\x00\\x00\\x00\\x00\\x00\\x00\\x00\\x00\\x00\\x00\\x82\\x81]\\xd1\\x00\\x00\\x00\\x00\\x01\\x00\\x00\\x00 (\\x00\\x00\\x1f(\\x00\\x00\\x00z\\x00\\x00\\x00\\x00\\x00\\x00\\x00\\x00\\x00\\x00\\x00\\x00\\x00\\x00\\x00\\x00\\x00\\x00\\x00\\x00\\x00\\x00\\x00\\x00\\x00\\x00\\x00\\x00\\x00\\x00\\x00\\x00\\x00\\x00\\x00\\x00\\x00\\x00\\x00\\x00\\x00\\x00\\x00\\x00\\x00\\x00\\x00\\x00\\x00\\x00\\x00\\x00\\x00\\x00\\x00\\x00\\x00\\x00\\x00\\x00\\x00\\x00\\x00\\x00\\x00\\x00\\x00\\x00\\x00\\x00\\x00\\x00\\x00\\x00\\x00\\x00\\x00\\x00\\x00\\x00\\x00\\x00\\x00\\x00\\x00\\x00\\x00\\x00\\x00\\x00\\x00\\x00\\x00\\x00\\x00\\x00\\x00\\x00\\x00\\x00\\x00\\x00\\x00\\x00\\x00\\x00\\x00\\x00\\x00\\x00\\x00\\x00\\x00\\x00\\x00\\x00\\x00\\x00\\x00\\x00\\x00\\x00\\x00\\x00\\x00\\x00\\x00\\x00\\x00\\x00\\x00\\x00\\x00\\x00\\x00\\x00\\x00\\x00\\x00\\x00\\x00\\x00\\x00\\x00\\x00\\x00\\x00\\x00\\x00\\x00\\x00\\x00\\x00\\x00\\x00\\x00\\x00\\x00\\x00\\x00\\x00\\x00\\x00\\x00\\x00\\x00\\x00\\x00\\x00\\x00\\x00\\x00\\x00\\x00\\x00\\x00\\x00\\x00\\x00\\x00\\x00\\x00\\x00\\x00\\x00\\x00\\x00\\x00\\x00\\x00\\x00\\x00\\x00\\x00\\x00\\x00\\x00\\x00\\x00\\x00\\x00\\x00\\x00\\x00\\x00\\x00\\x00\\x00\\x00\\x00\\x00\\x00\\x00\\x00\\x00\\x00\\x00\\x00\\x00\\x00\\x00\\x00\\x00\\x00\\x00\\x00\\x00\\x00\\x00\\x00\\x00\\x00\\x00\\x00\\x00\\x00\\x00\\x00\\x00\\x00\\x00\\x00\\x02\\xa2\\x01\\x00%!PS-AdobeFont-1.0: Slick 1.0\\n', b'%%Title: Slick\\n', b'%Version: 1.0\\n', b'%%CreationDate: Sat Dec  7 02:08:58 2019\\n', b'%%Creator: vagrant,,,\\n', b'% Generated by FontForge 20170924 (http://fontforge.sf.net/)\\n', b'%%EndComments\\n', b'\\n', b'10 dict begin\\n', b'/FontType 1 def\\n', b'/FontMatrix [0.00195312 0 0 0.00195312 0 0 ]readonly def\\n', b'/FontName /Slick def\\n', b'/FontBBox {37 37 475 475 }readonly def\\n', b'/PaintType 0 def\\n', b'/FontInfo 8 dict dup begin\\n', b' /version (1.0) readonly def\\n', b' /FullName (slick) readonly def\\n', b' /FamilyName (Slick) readonly def\\n', b' /Weight (Book) readonly def\\n', b' /FSType 8 def\\n', b' /ItalicAngle 0 def\\n', b' /isFixedPitch false def\\n', b' /ascent 480 def\\n', b'end readonly def\\n', b'/Encoding StandardEncoding def\\n', b'currentdict end\\n', b'currentfile eexec\\n', b'\\x00\\x00\\x08\\x00\\x02\\x00t?\\x84\\x13\\xf3cl\\xa8Z\\x9f\\xfe\\xfbP\\xb4\\xbb\\'0\"\\xda\\xc3=o\\xb4\\xd0S}\\xf3\\x01\\x95\\x1b\\xacZ\\x19\\x8bY\\xca\\xf1\\xc3\\xfeW\\xe7\\x03\\x7f\\xaa\\x8f4*\\xac\\x19S\\x8b\\xa1w\\xb2(\\xb3sk\\x17NSf\\x92c\\x1a\\x15\\x8b\\xa4\\xcaS^.a\\xc2H\\xc2]\\x8e+=\\xaa=O\\xa0\\x91\\xe9_\\x1bf\\xf6\\xd0FW\\xaf\\x92\\x06\\xaa-\\x8a\\xd3~1\\x97/\\xe2\\xbf#\"e\\x7f\\x91 \\x930y\\xa5H\\xe9\\x97\\xb8\"\\xe4\\x8b!\\xec\\xe57\\xb0\\x1d\\x85\\x0cO\\xb8\\xb89\\x98b#C\\xfd\\xe4\\x8b\\x92\\xc3\\xd1\\xa4V\\x0c\\xeb\\xdc\\x95\\xfa\\xd3P>\\x1a\\xca\\xb3\\x8d{Jr\\xa1\\xf2\\x9c]\\xe0F\\xe5\\xa6$\\xe4w\\xd4\\xfa\\xa4\\x11\\xb6\\x89\\xb4\\xb47\\xd6\\xb5\\x10\\x90I\\x87-\\x96\\xa5p\\xaff{>\\xba5\\xb7\\xa0\\xe3[\\xc7\\xe6x\\xdf\\xdb\\x8fi\\x06\\xc3\\x8b\\xd8\\xca\\xc3\\x12$r^BX\\x98O\\xabP\\x01\\xd6\\xa5\\x0bf\\xcd\\xff_L\\xe7\\xb6(\\x81\\xd6z(\\xca\\xcb%\\xfa9\\xb1=\\xf0 \\xe7\\r`\\xa8\\xb2\\xb2L\\xca\\xa2(O\\x91\\xb9\\xac\\xae\\xc9\\xfc.\\xcd\\x8a\\xe1d\\xed\\x8ceR{Np\\xb2\\x01\\xeax\\xa5\\x03<\\x17\\x13\\xe9(\\xdb\\xa5\\x96\\xe6\\xc7\\xb1\\xc3\\x05`\\xd8\\x03\\x96\\xc7a\\xfbS\\x8e\\xab\\xa5\\x7f\\x18\\xe3\\n', b\"W\\xa5C\\xd6\\xae\\x85(C\\x82@\\x98\\x15-\\xcc\\xfb\\x91\\x1a\\x96\\xd5\\x06\\xc7}\\x89\\xf2#\\x86\\xc8\\xd3_\\xe8\\xbdY\\xac\\xbe5\\xae`:j\\tpU2\\xf9>\\xba\\xe1,\\x94\\xbd\\xdd7\\xa6U\\x02\\xd9\\xb7\\xb3\\x94\\xb1\\xe0\\xce\\x15\\x88\\xa5xO2*\\xb6\\x84wm\\xaaz\\xed\\xc0\\x07\\xc0\\x08\\x10\\xa5\\xbb\\x88\\x94i\\xf8Y@m\\x00\\x82\\xc6T\\x93\\x1e\\xa8E\\x04\\xee\\xe7\\x10o[\\xb83Z\\x8ak\\xe9w\\xda\\x95\\xf8\\xee\\xfe\\xacx\\xe9\\x9c\\x03n~\\xd1d\\x95;H\\xb2\\xc7\\x91\\xb3]+\\x88\\x19\\xb3\\xbd\\xb1\\x12\\x0c\\xa9\\xf5\\xa2\\xc6pa)?$.\\x9bT'\\x1f\\xe8y\\xc2\\xdb0\\xad\\x11\\xe0\\x89\\x0f\\xed\\xadZ\\x01\\xa4 .\\xb7\\xb8\\x1bi:\\xa8\\xb2}\\x12T7\\xe7\\xae\\xfd3\\xff\\xb4\\xb9 \\xcc&\\xb5\\x8a\\xe3\\x06\\xb1\\x93\\xcbG\\x81\\n\", b'\\xc6#L\\xe5\\xc8t\\xde\\xcak\\xbf~\\x1dC\\xd9?m\\xfa\\xce\\xec\\xbf\\xae#\\xbd\\xbcu\\xc6\\x86\\xcf\\xf3\\xb4\\x1d&\\x8fd$\\x15\\x17\\xbd\\xab\\xb6\\xf2l\\x07\\xbe\\xaf?\\xe0\\xec\\x84\\xae\\'\\xef\\xc0\\x86>\\x07Q|N\\'`(\\x85\\xa3\\xf0\\x15\\xc57\\xbe*\\x17+hP\\x01\\x1f\\xdb\\xd6j\\xf4\\x93_X:\\xa4\\xfc\\xe5^\\xea`[_\\xe298\\x97\\xe6\\xb9\\xda\\xb6\\xdf\\xdf5P\\xd2>\\x95\\x1dOc\\\\\\x16\\xc6^\\x98\\xfafbm\\x17\\x16\\xe0\\xeeW\\xa1\\x078\\x1d\\xb7\\x8f\\xb098\\xaf\\'\\x1f{\\xa6\\xd0\\x82\\xdf(\\\\\"\\xcf\\x97\\x8cY\\x9f#4\\xc8:\\xc7\\x07>\\x87\\xa5\\x01)\\xa0\\x84\\xf5\\xcc\\xaa\\xdb.=\\xa9/R\\xdbOT\\xecP!q#e\\x8f$F\\x05?\\xed\\x15T\\xf1\\xd5x\\x92 LQ4\\xf4\\xa2\\x156\\x8aL]c5\\xd0<\\xb5I8\\x83\\xa9gWUf\\xfd\\xe7\\xcd\\xa7\\x10\\xe9\\xf3H\\xf7\\xdao\\x8d<\\\\\\xe3\\x12p\\x11\\xc0R\\xd6\\xc8\\xbc#\\xe8-y \\xb4v\\xa4\\xed\\xcc`\\xc0H\\xb7\\x08\\x97\\x02jDz?#\\xb2J6G\\xdd\\xa2\\xbb\\x9f?\\xd7\\'\\xe9\\x14\\x9dW\\xa5\\xc0\\x937\\xa8\\xf74\\xd4\\xd9\\xf4wl\\x11\\xd1\\xfdp1\\xd8\\xca\\x9c\\xb4+\\xbe\\xed\\x98\\xfcV\\x18\\x1a\\xefv\\x9f\\xaa5P\\xca\\x11L{.n\\x18\\xda\\x0eSX\\xb1\\xbd;A\\x9fd\\xa1YUi\\xfb\\x9fD\\xcc\\xdfr\\xf1\\xd8G\\x0b\\xea\\xad\\xf6a6\\x9c\\x12\\xc27\\xc4NQ\\x81\\xef\\x82\\xd2,\\xac\\xacH\\x9d\\xa7\\xe4\\xa3\\x1d\\x92&\\xa9\\xf0\\xf4\\x8e\\xa89Y\\x10\\xa6\\xc0\\x11\\xb7Qi\\x85\\x92\\xc2\\x06\\xff\\xd7\\xed\\xba\\x8d\\xb9Q\\xac\\x16\\xef\\x1a\\x81\\x8dZTVS\\x19I\\x7f\\r\\xd4L\\xd1\\x17/\\xa2\\xb3p\\x1e\\xc0\\xa0\\xb5\\xcf2\\x8d#\\x9c|\\x90\\xf5\\x12\\xd7j\\x1a\\x1e\\xb1G`\\xd0\\xb6fY\\xf8\\xb2\\x9a\\x0bM\\n', b'j\\xbfF\\xda\\x91\\xbb\\x0c\\n', b'\\x03\\x03ffS\\x0c\\xab\\x97\\x82\\xfaC\\x94l(7\\xfbt\\x01@\\xf9#\\xdaD\\x05\\x0b\\xb2\\x95\\xb6\\xf8f!\\xeb\\x91\\x88!\\xc3\\x18\\xdb0\\xdd\\xf9\\xe4\\xa7F\\xd2X\\x0e\\xe8\\xa9^\\x8eN\\x95\\xe8\\xae\\xa9\\x96\\xc0\\x86i\\xfaOv?\\xd3G\\xf9\\x93}!\\xab\\xc6u\\xfb\\xa0\\n', b'\\xd3\\x841F\\x864\\xba\\x1a\\x1f\\xe5\\x98\\re\\xa3\\x19\\xfd\\n', b'\\xfb\\xe0\\x10\\xbcG\\x965\\x90o\\x8f\\xaeu\\xb0\\x84\\x90\\x13\\x88\\xd9\\xdefC\\x08\\xf8\\xf4 ,\\x185h<\\xc5x\\x171\\x87\\xc7\\x18\\xabV)\\x852\\r\\x04\\xfcR\\x93\\xc4nX\\xfdi\\xe1a\\xcbTNaZ\\xffF\\x91\\xb5\\x1e\\xc7D\\x19>\\xba10Z]Y\\xf2B \\xe5u\\xb5b\\x17lQ\\xa2o\\xdb\\xa5\\x01\\x18\\xabRa\\xf4\\xd4H2\\xdd*\\xa8\\xa5=D\\xd4\"\\xf9\\x1c\\xe9\\xe1EF\\x07\\x8e\\xb9j\\xfex\\x1c\\x10\\x9c\\xad\\xadUTn\\xa5I\\xffHvr\\xa9\\x9f\\xcbL-\\xcc7\\x12\\xa3\\xc4\\xa2}\\xfeC\\xb7\\xcb\\xa6_\\xeaY\\xdb\\xa9M\\x90\\xb6\\x93\\xb1:Up\\xfd\\t\\xa7\\x0b\\xa8\\x9c\\xc2\\xd1\\x90Z)b\\x06\\xb3\\x83b\\xd1\\x9br\\x08I\\x1e\\xa7e\\xe1\\xa3\\xf2\\xca\\xfet\\x86\\xed#5\\x97\\xe4.s\\xa3\\xe6\\xa6S\\xc3\\xd4T\\x8eDOt}N\\x93B\\xf24hQ+\\xbaOYG\\xfc#\\n', b'\\x1e\\xb0\\x07\\x8a\\x01h\\x0bJ5\\xc5X\\\\\\x877\\x9d\\xe1\\x9d\\x0c\\x15\\xfeW\\xc9\\xe3\\xf5\\xbc;\\x07C\\xd9!X\\xec\\xd6\\x8ck;I\\x9a\\xe9c\\x8e\\xfd\\xaaY@<v\\x05\\xb8\\xbdJw\\x1f\\xc3\\x0f{>\\xc3\\x87\\xeb\\xa1\\xbc\"D\\x0c\\x02\\xd3\\xcd\\xf3\\xaa\\xc7\\xed?\\x10\\x94#?\\xc0\\x98\\xb8p\\x8fym\\xb8\\xa2\\xbf\\xe6Xi\\xb7\\x85i\\x84,\\xd8\\xafp)Ae\\xba\\xc1\\xc5\\xc5\\xf3G\\x17\\x02a\\xff3 \\x0e\\x88\\\\)\\x97\\xc4g\\xc4Z\\xff\\xcds7\\x90\\x8a\\xe7\\x19}YH\\xc4\\xd8\\x02\\xee\\x17\\xdb\\xe2t\\xfb#W\\x01\\xfe*>M=z\\x9a\\x85/\\x0c\\x9a\\xc3J\\xd5k\\xed\\x8a\\x91L\\xce\\x80\\xd9nW\\x18\\xfa\\xb6\\xcd<\\xe2!\\xd7\\x95\\xfe\\x0cX\\xaa\\xe1\\xb9\\xc7}\\xb3[@\\xc2\\x8f\\xe5\\x1c\\x05\\xe7\"\\x1d \\xe9Y\\xd2\\xbfi\\xca\\x07 nP\\x7fweM\\xc0PK3\\xcfG\\x92\\x18u\\xbb\\xfa\\xa6\\x81\\x05:\\xc6\\xc6K\\x9f\\x0f\\xf7\\xca\\x1d\\xd2-\\xf8\\xaeo\\x87\\xc4\\x968F\\xc8\\x1f\\xd6\\xe1\\xe3\\xd8\\xae\\x9a/{>\\xdbcJ\\x0c&~`\\x14L\\x18,\\x0c\\x96\\xdd\\xb8\\xda\\x9b\\xd2\\x14\\xc1\\xb7\\xe3\\xe2\\xb7\\x13\\x80 oc\\xc0\\x81\\xbd\\xa3\\xa0\\x16\\xb6\\xfdv1\\xab?\\xfeM\\xcb\\x916p\\x81\\xa4\\xad\\x1em:\\xcb\\xc5\\x92i#\\xfa\\xa8/\\xcf\\x8d\\xfff\\xc4\\x8aZ\\xc3Vl\\x08\\xad\\x86\\xea\\x1b\\xad\\x16\\xa2\\xd7\\x1a\\xee\\xab\\x8b3D\\x89p\\x8ci\\n', b'6\\x04\\x10\\x81\\xb0O\\x86\\x188\\xc3\\xe4i\\x8aaN\\xdaj\\xda\\x1a\\xa7\\xc0\\xdb8\\x03\\x10a\\xc6H\\xba&\\x95\\xe8\\xb1\\x8cqw\\x17\\x0e\\xb4\\x83\\x1fAoH\\x06||\\xbbE\\xb3\\xaa\\xbd\\xb3\\xa0\\x13\\x11%m\\xc6\"Gw\\xb6\\x1a\\x1b-v\\xef/\\x84\\x98\\xff\\x9eB\\xbe\\xbc\\xcc\\x16\\xf1`\\x03\\x9e\\xdb\\'\\xebL\\xcb\\x867J\\xa3\\xc1\\x14\\x97m&\\xeba\\x19#?e2\\xc8\\xdb\\x7f;\\xf3\\x88\\xcf\\\\\\xd2\\x85%>!\\x93\\x82^\\xb6\\x9f\\xca\\x1c\\x1b@\\xcfo\\xed?\\xd5\\x81\\x9f\\x844\\x95\\xb9\\x16\\xff\\x17G\\xc0XI\\xb5d\\xa7\\x87\\xd5\\xcc\\xdae\\x04\\xed~h\\xcc\\x198\\xe8\\xde]D\\x16\\x032\\xe42\\x03\\xc78\\xec\\xe0\\xd9\\x10\\x80\\xcaV\\x15\\xff\\xba\\x00[\"v\\xc2\\xcbd\\n', b'\\x14\\xfe\\x88\\xe1P\\xd0\\xe3\\xcfk3\\xc3\\xbe\\x07rY\\xb1vT\\xc6\\t\\x18\\xc1\\xe1\\xd8\\x15p\\x11\\x19\\x84\\xce\\xe0\\xdb\\xca\\xd3\\xa6_c3i\\x996j\\xbf\\xff<\\xac\\xd7\\xbc\\xfa\\x17Cm\\x98\\xf8\\x88\\xe2\\x1e\\x9fW\\x91s3\\xdf\\xfcC\\xc3\\xa0!\\x17Ib\\x9bT\\xca\\x80t\\xa7.\\xce.\\xf7r\\x81\\xb8\\xfa\\xae\\x145l\\x9dQ\\xe0\\x14s\\x10v\\xd2Q\\x1e\\xf64\\x0bT\\xe2\\xd0Iz\\xe8^2\\xdb&\\x02\\xc9\\xc6H\\xcc\\x94\\x01\\x93\\xdbB\\xb7I\\xb9\\xd3b\\xfb\\xb0{\\xa9\\x08\\xe8\\xd2\\xa7,t/\\x92J:\\x85:,\\xc7a\\x04\\xae~\\xab^\\x05\\n', b'\\xdb\\xad\\x8c\\xf6\\x8b\\x80Vc\\xe2\\xd3\\xee\\xa5d\\x0e\\xa3\\xae\"\\x16\\xb4\\xe6f\\xda}F\\xa5\\x84\\xee\\xef\\xbe\\xafN\\x08\\xe6\\xdd\\xaca\\x02\\xc6\\xa7\\xb3\\x02w\\xf51\\xc1\"J\\xa0L\\x95\\x1c}!\\xffI\\x97<\\xea!\\x01)#\\xb3\\xcf\\xeby\\x12\\xf2\\xe6\\x00\\x00\\x08\\x00\\x02\\x00\\xdc\\xe7\\xd8\\xa0l\\x8d\\xd1\\x8e\\x95Z\\x86&\\x8fW\\xb0\\xca \\xb5M\\xc0^\\x98@\\x88\\xa1\\x99\\xd4\\x86\\n', b'\\x98OCI\\xd6\\xc6$\\xb6P\\x8aA\\xee\\x03\\xb7\\x82u\\xde\\xf7\\x98\\x03\\xd8\\x9d\\xa4\\x83\\xa5\\xa6Pk\\xaf\\xc5.\\xe7[\\xfcN\\x96\\xf9\\x1c\\n', b'9e\\xdf\\xb2kA\\x08>E\\xbb\\x0f*\\x05\\xf2\\x9e\\xc9o\\xf9U\\x92e~\\xb5\\x14L$\\x9f,B\\xce\\xa0X\\xdet\\xac\\x1dx\\xce%\\xad\\x94\\xedF]\\xf6/!\\xd4\\xcf\\xe7\\x15\\xe4\\\\E.\\xe5N\\xf7\\xdd\\xd2\\xc6k\\xa6\\x14C\\x057\\x03;\\xbc\\xae%\\xbe\\xff\\x91s\\xde\\xb3\\xb8\\x1b.\\xcc>|\"t\\xe1\\x83\\x05\\x9dw&\\x15\\x81\\xa7\"\\xfb\\x8eM\\x15\\x0c>Kafb\\x0b\\xd2\\xef\\x927\\xfd\\rM\\xd2\\x1b\\xd3\\x9b\\x88\\xf6\\xb1\\xba\\x91<B`\\x85\\x0f6\\x8f\\x18B\\xcb\\x1bv\\x19M\\xd4\\x02,\\x07\\xb8\\x96\\x9e\\xaa(\\xacK3r\\xf8W\\xf5\\xa7Y\\xba}\\xbc\\xd6\\xc9E=\\xbc\\x8d\\xcb-A\\xa2\\x93\\x16\\xb8^\\xed\\xe1B\\xf5\\xad\\xd2\\xf0]\\xe5\\x1dm\\xb7+\\x12t\\x12\\xa0\\xd9<b\\xc0i\\x16v\\xb40)pZ\\xee\\xd0=v~\\x93z\\xb5}iw\\xfeD1\\xa6b\\xaf\\xca\\xe5I\\xc1\\xa8{1\\xa2\\x99`\\xce\\x14\\x13F8\\xe8\\xa9\\xc3\\x8d\\xf3}\\xfb\\xb7\\x95\\xaa\\x12\\xd4\\xbc|\\x80\\xf6\"\\x8c\\x9a?5f\\x9b\\xccJ\\xa46N\\\\\\xf1JQU\\xfc\\xe9^\\xe7\\xfc\\xcf\\x8e1\\n', b\"\\xcb3\\xff\\xbe\\xab\\xaby8\\xb4\\x92\\xff\\x8c)\\x9c\\x85\\xdb<\\xee$\\xfe\\x1d\\x89\\\\\\xb8\\xfc\\xbb\\x7f\\x10P\\x1f$\\xa5\\x9bA\\xba\\xf3\\r\\x01\\x0b\\x9b$\\xcc['\\xa1}\\xa6\\xc5\\xb5\\xbbt\\x8c*\\xb4\\xcf6\\x1e\\xdeVB\\n\", b'R\\xba\\xbe\\xbd\\x90\\xdd\\xf8wVh\\xbe\\x84\\xcb# z\\x80\\xcd\\x9c\\x1cE,\\x1d\\xcdT\\xea\\x1f:\\xf9=\\x97Y`\\x0ejYn\\xd8\\x00\\x8b\\xa9\\xab\\xad\\x06%\\xe6\\x8eh\\xd6UDU\\x92VHl\\x13\\x03\\xea\\xa8n,\\xf6\\xe3\\x14\\xf0\"\\xf2\\xc17\\x8c\\xad`\\xa5\\x01q\\xc5\\x93\\xd9Z\\x83\\x1d&\\xcb\\x98\\x1d\\xfa+\\xa7T\\xa2\\xe3\\x05\\x8e\\xb5\\x9b`K\\x94\\xcb\\xa7\\x96\\xc3\\x06\\xf3(\\xbd\\xe6:\\x14m;\\x9e\\xcd$\\x06\\xa7\\x13\\xc9\\xb5V\\x03\\x99\\x83Dx\\xb53\\xb00\\x9b\\xf7\\xdd\\xe1\\x97\\x03\\x18\\xfaw\\xd0\\xcf\\xfeG\\x87\\x1bn\\x02<\\xc7\\xe9\\xfa\\xb6\\x96\\x08\\xd0G\\xa9D\\xdf&h\\xc8,\\x86\\xbd\\x8e9M\\xdbE\\x9dXT\\xa4\\\\\\x1c_\\xff\\xb2\\xd7L\\xbf7\\xd8n\\xc4Y\\xc4\\xf7\\xbb\\xf4N\\t\\ty\\x1c\\x9f\\xc6<\\xcd\\xef\\xa3X\\xf6q\\xc3*w\\xe1\\x85Z%\\xbc\\x19U\\xf7\\xe8\\xa5\\xe5\\x03\\xe2\\xe3(\\xb7\\r\\xfe\\x1a~\\x18\\xcd\\xd5\\x88g:\\xae\\r\\x8b~\\xd9\\x8b\\x8e\\xdd#\\x91\\x92U\\xac\\xc6m\\xe9t\\x80\\x99\\x9e\\xeb6|\\x14!\\xde\\xb7\\xc2mr$$\\xb2\\xac\\xf1\\x1d3\\xee\\x05\\x86\\xca\\xb9,#\\xde\\r\\xa7\\x15\\x8es|lW\\x91\\x13\\x93\\x07;\\xdaq\\xb86\\xc3\\xa3%\\x1e\\xb7\"\\xa8\\xc6\\x94_m\\xe8v\\x1b\\xea\\x18$\\x07\\xb3 \\xa0\\xd7A\\xaa\\xbfN0{\\x96\\x7f\\x00\\x8c.x\\xa7\\x19\\xe8\\x18\\x0e\\x85\\xa7\\xdd\\x8f]\\xea6\\xf7W\\xbdD\\xf9\\x8d\\xe0\\x16\\xca\\xbdM(\\x97)\\xca\\xcb\\xb7\\x1f\\xd6lR\\xfb5>E\\xf3%\\x03<\\x93\\x88\\x9e\\x94\\xdd\\xdb\\xac\\xc7\\x1bA\\x91\\xd0\\xa3M\\x91\\xb2\\x8eUu=x\\x99\\x1e\\xf9\\x9b\\x18\\x9d\\x90<\\xeb\\xbai;\\xacUk`LN\\xed\\xc1\\xa1]\\xd4\\n', b'\\x17\\x86\\x84\\xe8\\xac\\xc1\\xd9WM%\\xf0\\xa1\\x98\\xb92\\x1e\\x87\\xe6\\xa0K\\xbd\\xd5\\xedKv\\xbd\\x8a\\x93\\x0c\\xa3\\xa2\\'\\x10\\xb9\\xae<\\x7f-\\x90\\xa7\\xfc,\\x97\\xa6P\\xe85\\x14s,\\xbc\\x10%=\\xc6\\xc8G\\xa2\\xa1\\xf85p\\x1a<\\xe19\\x8b\\x17I\\xcf\\xd2@\\t\\xb3\\x0c\\x07\\xb4i\\x82\\xc3a\\xfe-\\x81)\\xe9\\xee\\x8f\\xed8\\x08%\\x95\\xc4\\x1f\\x9f\\x00\\xafrDA\\xbf\\xa2}u\\xe8\\x04\\x9b2X\\xf0b\\x8c\\x1anq\\x9f\\xac\\xc9\\x87HS/\\xb7\\x9a\\x82\\xbdn\\xeea\\xec\\xcf\\xa1\\xd6\\xcd\\xbb\\x94\\x0e\\xeb:\\xf4\\x01r\\x8dW\\xe8^+\\xe9X\\x959\\x92C\\xd4\\xd0:iNW\\x9fT\\x9a\\xd9\\x15y\\xa8\\x81\\x0e(\\xf9 y\\xda=\\xb7\\x0e\\x08\\xa9\\xeaf\\xf8N\\xe5\\xbcc,\"\\x93\\xf6\\x15\\x99\\xad\\n', b'r$\\xce\\xb3\\x0e\\x89\\xa1\\x8a\\xbc`\\x96\\xe2\\x86WK\\x8a\\xc6LJF\\xb6E\\xd7\\xe3\\x91\\x0e\\xb8;6L\\xbb\\x05\\xa2\\x02\\xb7\\xb8\\xc4\\xe1\\xbfIq\\x9e\"J\\xe0\\x15r\\x1d[e\\n', b'\\x07\\xb3\\xa4/sE\\xcdEB\\x02\\x1a\\xaf\\xbe\\x8dw\\xe7\\x8c\\\\\\x1b;<*`_\\xc0[r\\xe3pq\\xe8?\\xdd,\\x91\\x10\\xa8\\xf6\\xed%\\xf4\\xba\\xd9\\x97\\x15\\x1f\\xce\\xa6F\\xd1D\\xe0\\xa7\\xf4\\x95\\xcc\\xce\\x81\\xc2&ZX\\x82\\xa6}(FH\\xc1=\\xd5W6\\x0c\\x89\\xa5\\xda\\xc1\\xd6\\xbd\\x1a\\xd6nKH\\xe2\\xe1M\\x0e\\x1e\\x8e\\xde\\xc9AE1\\xa0\\xf4b\\xdf\\xad\\xf6\\x1bM\\xeaz2\\xd8\\xfeX\\xd9\\x83\\xa4\\x1ctaz\\x03\\xe5<\\x0e\\x81U\\xf39DVP\\xe0m\"\\x84#\\xef\\x07b\\xdd{]\\x04\\xb1\\xe7\\x8c\\xf5\\x96\\xb0\\x006,\\x05E\\xc5ghg5\\xecGO,\\r\\xa5K\\xc7\\xfcP\\xfa;\\xbax\\xbfA\\x1e\\xc4\\xf4\\xd29\\x8a1\\x8e\\xee\\xa4\\xfe\\xe2LZ\\x0f?\\xc9\\xa0?\\x9fB\\x92\\xa6\\x8c=gd\\x9b3\\x9f\\xe2h&\\xea\\xbf\\xfe\\x0f|\\xaa\\xcfk\\xc8\\xb5\\xc7\\xc2\\x9c\\xf1\\xebl)l\\xca\\xd2\\x94C\\xf7w\\xa670\\xb8\\x0cLo\\xdc(\\xb9\\x8e\\x9be\\x8f\\x0c>^\\xaa\\xc4$_\\x96Jf\\x83\\xdd\\xb7#Q\\xe9\\xd1t\\xce\\x18\\t/\\x83\\xca\\x9b\\x00\\xf3Z\\xca\\x8bKQ\\xbe\\xe9\\x1f\\xf1g\\xf9\\x18U\\x13PAbu\\'\\x8dnx\\xb6e@vv\\xa9\\xfa0@\\x10AS\\x9b\\x01\\x9c\\xa3\\xfe\\x10x\\xc3&z\\x02\\xf1\\x9c\"@\\xe2sin5\\x89\\xd2\\xd8\\x9av\\xe6\\xbds27\\x83\\xfc\\xda\\xf4\\x123\\x11\\xb8P\\x9b\\xa8DM\\x16@w\\xc4t48\\xfdeoJ\\xa93\\x9d\\x8bb\\x00\\xde\\xc4Z\\xbc\\x9d\\xcfL\\x9eV\\x19\\xb9\\xc9\\xea\\x7f\\xa6\\x81)\\xef(\\x95\\x13\\x14\\xa2\\xaa\\xe0\\xe7h\\xf2\\x80\\x0f \"\\t\\x93\\xdbj\\\\\\xfd\\xd7&\\xee\\xf8\\x8f,\\xbd7o\\xf3\\xdc\\x16\\xafR\\r\\x0cQ\\x02\\xba\\x86\\x82D\\x1b\\xab\\x1e\\x8d\\xd8>\\xfa\\xd4\\xab\\x08P\\xb0\\xf5}\\xfe\\x88\\x82\\x9b]\\xf1\\x8c\\xd4Wp\\xeaW6`\\x89m\\xe3RQ\\xf8+\\'\\xc5\\\\\\xf4@9r\\x9f(\\x92\\xf3\\xbb]^\\xe4\\xeb\\x80#\\n', b'\\xf5\\x8a;=\\x12mSI_V\\xf8p6\\xa8\\x19\\xc4_\\xe9\\x14\\xdb\\xf8\\xa5\\x03*\\xc2\\'\\xa3\\xb8\\x0e(M\\xaeB\\x83&\\xd4\\xa5\\xa8\\xd4`\\x9f\\xb3 \\xe6\\xd1g\\xb1|\\x81\\xd4\\x8b\\xf5\\xe8s\\xd8\\xe0\\xd4`\\xd9-\\x88\\xa0T>\\xc2\\xd3\\xbe\\xb2\\x14\\x95\\xf2\\xa3H\\xc3[M\\xf5\\x9b\\xef\\xae.\\x81\\\\\\xcb\\xa9\\xc9\\xa5k\\x93\\xf43\\xa55\\x92\\xc6f5n,\\\\\\xe0\\xbd\\x91\\xb3\\x04\\xda\\xcb\\xb8O\\xe5\\\\\\xdf\\xa2\\xa4\\xa8\\x10\\xed\\xb8\\xf3%p\\x03\\x7f\\xdc\\xa7\\xd5\\xd9\\x1b\\xb8e<\\x9e\\x8c\\xc2\\xd3,\\rs\\xd0b>>A\\xaa? \\xd2K}\\x82\\x10\\x87\\xa0r\\xf2\\xf2\\xec\\r\\xc3\\xae/c\\xd2bkP\\x1f`\\xbf\\x8f\\x1c\\xec\\x18\\xae\\x84\\x8eN\\x10\\x1c\\x90W\\xe5\\xc4h\\xf0[>\\x07\\x1c\\xd93\\xb4&\\xda\\xde\\xb6BO~=\\x8f\\xb7 \\xcd\\xef\\xbb\\xc0uW\\x87P\\x8fM\\xf2\\x06\\xe4\\xd0\\x05\\x16\\x8b\\xa2}\\xbb\\xc6-\\x8e\\xdcL\\x03o\\xa4\\x1a\\xbfL3\\xdcO\\xa2t,p\\x8f\\xd7\\x02\\xe3<\\xf6\\xf6F?\\x9c\\xe3\\xfe\\x8f\\xd0\\x85\\x1ewUPj\\xf5\\x84\\x00f\\xe2\\xc4\\x9f\\x8f+\\xdb\\xde\\xf0\\xeb\\x19\\x0c\\xdc\\xf0#7\\xda\\xe6\\x84!\"\\xd7\\x1f\\xc0\\xcd\\xcc8+|\\x88G\\xc2\\xd7\\x10<\\xe5K[pW\\xa3\\xc9o\\x8b\\xae\\x87S\\xe9`\\xc4\\x0bG0^\\x90\\x07\\xc7\\x0f\\xd4\\xd1 \\x95\\xf1\\x90\\xc2\\xc9\\xb4r\\x83g\\x87R\\x8aUe\\x16\\\\6\\xf8G|\\xdd+CLXq6@\\xeeyI\\xab\\x85\\t\\x87/\\x03G\\x9b\\xc0\\x06\\x9eb\\x8d\\xa7\\xa3\\xbfd\\x14.c\\xe4\\xe1F\\xed\\xd4n<\\x9d\\xae+U\\xc6]H\\xcf\\xfcsu/\\xfa\\x01\\xec\\xd0\\xa6o\\x9c\\xd5\"\\xd7\\xa3\\xa0\\xa8\\x96\\xc8\\x82[Z\\xde\\xbd\\xb7\\xcfyn\\xf0\\x9b\\x0b\\xcfw\\xad\\xc3\\xe28\\xddW\\xef\\xdd\\x15J\\xc5u\\xfd\\x9e\\xf7\\xfa\\xf7#m\\xa4\\xb8_\\xe9\\xe0\\xf0\\xd5\\xf7k\\x1e\\x1c\\x89\\x85\\x89\\x16\\xd1I-U}y\\x1a\\xe6D\\xdc!p\\xbd0\\xd7\\xdc\\xa4\\x8e\\xf8\\xaa\\x94\\xab\\x073\\x12=\\x1f\\x11\\x88d\\xeb\\xbe\\x17<\\x06\\x164T\\xc7\\xae\\xc8\\x08\\x1f-y\\x00\\x00\\x08\\x00\\x02\\x00^B\\t\\xa6j\\x85\\x86\\xb5\\xa1{9\\x87\\x9f\\x06\\xbfS\\xde\\xaa\\xaafi\\x104d\\xcc\\x88\\x83\\\\\\xa7\\xafy\\x9c/\\x83\\x82\\xa6\\xdb\\xc9x\\x10`\\x15\\x1d\\xdbhG\\xb0\\xddV5\\x8d\\x89\\xd5B\\xdc\\x951]G\\xca\\x02\\\\9\\x8c\\xfbt\\xc3e\\'\\xd8\\xd5;\\xc3$rw\\\\\\xb4\\x8dc<\\x8c\\xa5\\xe0\\x94\\x01$3\\x8dy\\xaa\\xbbd\\xfc\\x83\\xdbYU<\\xe9\\xb6\\xeeS\\xac\\x1b\\xbe:\\x1c?\\xd1SgXH\\xd6|\\x8a+\\xe5\\xd1F\\rH^\\x9e\\x10eMC\\x01\\x95s\\xa4\\x14\\xf5\\x9c\\x93/3QW\\'\\xcam\\x82,\\r\\x94?\\x03\\x0e \\xf1\\x11\\x96\\xbdPf\\x1f_+\\x8b\\xcb\\xb4\\xe44\\x1dy\\x98\\x17{{$un\\xcc\\x85\\xd5\\tQ\\xd3\\x18\\x00D\\x880\\xa1\\xdd%\\x02)\\xc0r\\xa8\\xa4e&%`\\xb9\\xed0\\x9e\\xaa\\xfd\\xcd\\x1fx\\xfe\\x7f\\xad\\x86\\x08\\xb4y_\\x8c\\x0e{B}]\\x13\\x88\\xdby\\xf2cn\\x03\\xbe\\xdd\\r\\x0cj9\\\\\\xdfA*\\x89\\xffnr\\xf7G\\xcbUy\\xd29U\\xee\\xf6\\xe4I\\xab\\xa1hY\\xf2\\xbd:\\x85\\xfe7\\xbbF\\x92\\x99\\x96y].\\x825\\x98\\xd1\\xfc\\xde(7\\xa1\\xed\\xf0\\xa3\\x10\\xda`d\\xc4M\\xadq`\\x04!E\\xdc*\\x1f\\xd8!\\xa8\\xd9\\xbf\\xd9\\xa9\\xf9\\x91=\\xd9\\x81\\xf2\\x14\\xd7\\x8e,\\xe6\\xbb\\xa4\\xe6\\x17\\xdd\\xbb\\xee\\xa5l\\x86V\\x84*\\x95\\x0f\\x7f(\\x91\\xa1\\x7f\\xe4.A/y\\xbaL\\x81C\\xd0\\x90*\\xbeTZ\\xdaS\\xecXg\\x921~#\\xf9\\xbae\\xde T\\xcf\\x9e\\x0bl\\xa0+2\\x18\\x80\\xa3M%\\x96\\xe9!<\\xe0\\xcc\\xe8\\x03\\t\\xaa\\x81\\x8c(\\xae%\\x19d\\x9f\\xdf\\xe6\\xf5\\xf9x\\x19e`\\x8d\\xcb\\xf7\\xc2p#.\\xe8\\xc47Z\\x18~c\\xa4\\xe8\\x130\\x998B\\xb0.)\\x14\\xb5\\xf1\\x9dxJ\\xe7\\x1e\\x97\\xbb\\xf3;\\xd5\\xbeR\\xc8\\x89\\xdaG\\x14\\xbb7\\xd4 \\xb6\\x10\\xe0\\x80\\x05\\xeb\\xcd\\xcd\\xd1\\xcc\\xed\\xa3\\xae\\xda\\xbfq\\x8f\\xab[q\\x9f\\xf6V\\x08\\x88\\x1ajr\\xc2!\\x0bX\\xff;\\n', b'1s$\\xc6_&\\x12\\xc3\\xf0X.\\xe9j\\xc3\\xcd\\xc8\\xd5\\x85\\x1a\\xc7\\xf1\\xfc\\x9e\\xf7\\xfa\\x0f5\\xc1\\x1dz..\\xb9\\x18j(L\\x03s\\xf0J\\xc7b\\x0b\\xdf\\x06\\xd3\\xb5\\xd4\\x0et\\xdc\\x1e\\xd7\\xce1\\xe8.r\\x87R\\xe3nf\\\\c@5\\x897o!\\x9e\\xf8\\x80\\x11\\xc7\\xa3\\x04s\\x94\\x95\\xcb1\\x1cJ\\x18X+\\x98\\x06\\xf5\\xba M\\x15s}w\\x13\\x8c\\xd9yFy\\xaa\\x0cB\\xc0\\xa4\\xb8\\xea\\x9e\\xaeDn\\xff/\\xfc5\\x15\"\\n', b'\\xd0c\\xe5\\xf3\\xa5\\xf5\\x13\\x94X\\xfd\\xc3\\xb9\\xb04E\\xa6\\xfdz\\x15\\xa3\\x18>\\xb4\\xdfp|\"L\\xc4\\xbb\\x85\\xcc \\xfb\\xd4\\xdc\"\\xcc\\x81\\x8e1\\x9d\\xe5\\xb1\\x860R\\xfe\\xdaLI\\x03\\x979\\xc5\\xde\\xe8\\xf0U\\xdc\\xa0\\xc2\\x93\\xfa\\x9do\\x80?\\xe7S\\n', b'\\x10\\x9fLI\\xfc[\\x0e\\xa9\\x92\\x19\\'?c\\x9e\\xc7\\xd1 \\x9b&\\xd1\\xce3\\xc9\\xe99\\xb8\\x0f=\\xa1\\x12\\xbc\\xbfM\\xaf\\x95F\\xdf\\x0cl\\x1b\\xc8u\\x97\\xe7\\x98\\xdb\\x112\\xce\\x1cq\\x1a\\xf4\\xf7\\xc9G\\x19e\\x8b\\x87\\x00\\xb0U\\x9e\\x8cc\\xbbc\\xd3Bk\\'\\xea\\xb1\\x00;\\x8c\\xc0\\xff!p\\x8d\\xdeA\\xad\\xc44\\xfb\\x8a\\xea\\xc7\\xf5B\\xfa\\x9f\\xca\\xdd\\x1e\\xef\\x87\\x1e\\r\\xe0\\xf7+e\\x1b.3\\xedH\\x1b0A+\\xb5\\xfao6\\x8e$\\xf4\\xa473\\xa5\\x15\\xaf\\xd8\\xd2\\xb9\\xb7\\x116+L\\x074\\xa2\\\\!F8\\x03\\x07\\x9d\\xe3\\x06Z[`\\'\\xf6\\xe6\\x19\\x035\\xba\\x00\\xcd\\xc8\\x87\\x97G\\xbb\\x82\\x91\\x8cnW\\xb4\\xbdy\\x01\\xf5\\xd7\\x16\\x90\\x11\\x91\\x91\\xc0z\\x13\\x8e\\xc94\\x93\\xbc\\x00\\x93\\xe3\\x82!\\x19\\xbe\\x05\\xa26\\x1fc``\\x01\\x19\\xaa\\xba\\x15e/\\xd5\\xdd\\xbe\\x9b\\xd7\\xd1\\xff\\xfbq\\x10\\xc4BC\\xb0\\xad\\x11\\xd7X\\x1e~\\xd66>\\xb3\\x87\\xe9\\xc8;p]wm\\xfc\\x197aY\\r\\x97[l\\xf8tu3\\xc6x\\xf9\\x9f\\xff\\xab\\x89#\\xbeBe;L\\x88\\x14\\xf6Tk\\xd7\\x15}\\xba\\xed#=\\xde\\xb2m\\x0b\\xd83\\x8b\\xb5,\\xf6\\xc5f\\x1f\\r\\x06\\xb7\\x82\\xfa\\x950h2w\\xe0\\x9d\\x84y\\x9e\\xad\\xf2j\\xcf\\x9d\\x07}\\xac1?\\x9c\\x80\\xc6d\\xa1\\xef\\xb5\\x01\\r6\\x9e\\x98\\x9d\\x1ep\\xefKV\\x8a\\x99\\xee\\xb5\\xf0\\x04\\xcdLF\\xa1\\xf7\\xb4>?\\x9c~E\\x9fU\\x00\\xd9k<\\x81\\xbd\\x1e\\xdc0\\x0e]h\\x0f\\xbdV\\x82N\\xad\\xcf\\xc7\\x96lqL\\xe3\\xaa\\x84K\\xbd\\xe3@\\xcbC\\x82\\xc0\\x95)\\xc8E\\xa6n\\xb4\\x921\\x01\\xa8\\x91\\xe6E\\x06\\xc8\\x94\\x1f\\xf6\\x8ba\\x9a\\xb3W32\\x1c\\xdf-L\\x90\\x8d\\x8f\\xd6(G<W\\x8b\\x93\\xc8\\xf5F\\x83\\xe0$i\\x9f\\xf9\\xa9\\xf6\\xf56\\x98R\\xaf\\xb0\\x9a\\x05\\xc8\\x9d\\x07!oo\\xe1\\x82;\\xc6\"\\x04\\x94\\xd5\\x80\\x85\\x04\\x04x\\x12Nc\\xf7\\x10b\\x961\\xb6]\\x1b\\xa4\\xe5\\xc0\\xdc\\xdc:\\xf9\\xa6\\xdc\\xa0Nb\\xa0\\xcd\\xadd\\xadp\\x0c\\x13\\xeb\\xd1\\x98rb\\x15\\x8e[s\\xa4>\\x8a\\x16Di\\x07\\x96\\xfed\\xb5a}\\x82\\xf7\\x9c\\xb9x\\xfdZ\\x94\\x8a\\xf3\\xc8d\\xa2\\xd0Y+_\\x86\\xe0+Y\\xa3\\x92\\xf40\\x8c\\xc7\\x02\\xd5\\xe5\\x98\\xb0\\'S\\xcd\\xc4R\\xa9\\xadB\\xafm\\x80\\xe4\\xd5#\\xc5\\xf5o7\\x03\\x10\\xf1)\\xd3p4\\xd5\\xb7\\x81\\xdd\\xb0!k?\\x80\\xae^k\\xa0j|\\x7f\\x1e\\x8d\\x9e\\xb0\\x87\\xf6\\xac\\xb1\\x11\\xb9E\\xdd\\xe4\\x85\\x97H\\xed\\xe0\\t\\xd4\\x9bI\\xf2\\xc3\\xfd\\x00@\\xfe\\x96\\x1e\\x08-\\xba\\x1e\\x84:\\'\\xdc\\x01\\x14`\\x91>\\r-\\xff\\x02\\xff\\xa0eELC\\xb2z\\x90\\xbe\\x8d\\xc1D\\x93!\\x9a\\xb3\\x9b\\xf2\\x04\\x02\\x85\\xe3\\x7f\\xfc\\x18\\x1c\\xa0\\xb4\\xce\\xfdk\\xf2\\x94\\xe6\\xe1KCO3\\xd48\\xbd\\x8e\\xedneL\\xb5\\xc2\\xb1\\xd6\\x95\\xa8\\x05\\x0b\\x96Qz;o\\xcdi\\x19*\\xb9g\\xf3&\\x94\\x18\\xec\\xe7|\\x92\\xd8\\x01\\xe4\\xed]5;\\x19nD\\xb1U\\xa2q[q>\\xc3^\\xf6\\x84v\\xbf}^\\xe5,\\xe6\\x82W\\x90\\x82-am,3\\xc6*\\xdf\\x93\\xe7$b\\xbf\\xdf5\\xcb0\\x86\\x89&\\x14#3\\xa0\\xb1}\\xff\\xbd\\xac|\\\\\\xe0\\xd3\\xd2j\"\\x08v\\xdd\\xcc\\xdb\\xfd~^\\x84\\'\\xcb;7\\xbb\\xcc%\\xe3E\\xff1>&\\xf1\\xd5\\xc6x\\xbc\\x18$-\\x13\\xde\\x13-\\x97X\\xce6h@y\\x1c\\xe2`nU\\xbd\"/\\x95\\xb3\\x02\\x92R\\xdaz94\\xf7 \\x9d\\x8b\\xa8D/\\xac\\x0e\\xa0\\xc0=\\x08b3G\\xc4\\xb1u\\x1aiF\\xed\\x9c\\x15\\x10\\x7f\\x06\\x11\\xeb\\x1fd\\x9c\\xbe\\xf4(\\xc2\\xba\"\\xd7ci\\xb5\\x8e\\xd2\\x8b\\x01J\\xa6\\x1a\\x1ci/ ]\\xc9T\\x05\\x8f\\x0b\\xe9q\\x0c\\xecg\\x91\\'\\x00\\x08r\\x96\\xddg[\\x01\\xcb<\\xef\\xeb\\xc3\\xc9\\xbe\\x0f4:\\xe5B\\xe6\\xfb~\\xaa&dH8\\x96\\x9f\\x05\\xc6\\xc03J\\xb9\\xebM<\\r\\xfa\\xado\\x9df\\x06\\xe1\\xe5CV\\xc4\\x02\\xd4\\xac\\xcc/z\\xe7\\x1d\\xb7\\xff\\xaa}\\x83\\xc5p\\xdfG\\x97\\x02\\'\\x8clHV6l\\xf5\\x94\\xa7\\x8f\\x05\\xb5\\x9dJ9#P\\x16\\xfd\\x7f!8\"\\x83\\r\\x8bZ\\xcbH\\xfaE\\xc7\\xa3s\\x0cL\\xcd\\xdd\\x82\\xd7}\\x9e\\xc8\\xd2Y\\xb1\\xb9(<d\\rW\\t\\x06\\x9a\\xf8\\x00,\\xf0\\x1d\\xb5\\xdb\\xc4u\\xc9\\xee\\x8b\\xe1%9\\x01xm{\\xfb\\x86\\x13\\xb6\\xc6\\xcf\\xf1>q\\xe4\\x8bH;\\xbdK\\xad\\x12\\x19s\\xc3\\xc6dM\\xfe\\xa3\\x16n\\xf65\\xaaN\\x1b=\\xbb5e\\xd9\\x01_\\x8d\\x8eW\\x9bK(\\x88\\xa9\\xa3\\xae\\x84r4\\xa4\\xce\\xda\\x11\\xb4\\xc0\\xf6\\xe9i\\x02\\xa9Y\\xc1s\\xd5\\xb2\\xaf1\\x02\\xfc\\xb1\\xa6\\x11\\xa2\\xb4\\x9a\\xdb\\xac\\xb2;\\xf9\\xcc\\x95P\\x97\\x00\\xe2\\xbdWCd\\x17\\xa0\\x02\\x1a\\x06a\\xc7G\\x9d[\\xb0%`\\x1d\\xa6\\xb5z\\xb8%\\x0f\\xd8i\\xe0F\\xe8\\xf7pHC\\xc6,\\x90\\xe9\\xa1b\\xed\\x00\\xde\\xc0S\\xd3\\x89\\xe5\\xe1\\x14x\\xce\\rK\\x08XO\\xc0\\x85~*\\xc9>&_P\\xeb|Q@P\\x12\\x98\\xbb\\xea\\x19A\\x99!\\r\\xed\\xc2\\xe0m\\x99\\x03\\xbb\\xed\\xd2\\xfe\\x1bz\\x05\\xd9\\xbd\\x01@\\x0ec\\xbbx\\xa3\\xf5\\xbe\\x17\\x0e\\xed\\x0ei\\x83\\x8d`\\xaeS\\xa2\\xd6\\x88P\\xac\\xb7\\x9b;\\xc1eVA\\x0c\\x94\\xdb\\x9fd\\x0e\\x92+\\xd3\\xb5<\\xb9^\\x99}\\xfbn\\xf9\\x0e.\\xb4\\xa8\\xaa\\x87\\xcc8\\x87PY\\xf8\\xb4G\\xf3u\\xed\\xf8\\x19\\xfd+\\x89\\xa5\\xad\\xb3\\xba\\xd6\\x84\\xe2\\xbe+\\xea\\x96u3\\x0f\\x15\\xbf\\xa87\\x7f\\x14\\x1f\\xe5\\xee\\x18\\x87\\x13\\xactO\\xde\\x06\\xed\\x07\\t`\\x9b\\xfaM\\xe2\\x0c1bd^\\xd8\\xdcJ}\\xdd\\xde\\xe2d\\xdc\\xb7\\x00\\x00\\x02Q\\x02\\x00\\xe4nMH\\xa0\\x7f\\x15`\\x01E\\tY9o%.\\xf8\\x0b\\x1f6^\\x80\\x80w\\xf1\\xb4\\xa1\\xe8>\\x86\\n', b'\\xf0\\xfa|\\x9b\\xd4\\xf2\\xcbJ^\\xbc\\xbc\\\\\\xd94\\x83\\x89L\\xbd\\x87\\x87I\\x0c\\xa3\\x0cu\\xf7\\x06\\xe6OfJ`|\\xfc\\x98\\xbf\\x1e0\\x97tML\\x81`\\xff\\xee\\xc2m\\xe6\\xcdJ]9z\\xefA~\\xee\\xe4\\x92\\x13\\x0ba\\x96\\x1bv\\xf2>\\xaf?*\\x07\\xd6q\\x03\\xae\\xea\\xa9D\\xfb7\\xae\\x06\\xc1L\\x17\\xe7h\\xa9w\\x10\\xe2\\xc1\\xaa\\xeen\\x06\\'\\xa4\\xc4\\xfd\\x07\\xf4\\x81\\xeb#\\x04\\x87\\x0e\\x8c0c\\xb0\\x90\\x9a\\xe8\\xc1\\x0b\\xbbR4\\x896\\xec7\\xddW\\xbe\\r\\x94\\xca\\x86c\\x88\\xbf\\x1f\\x93\\x92`\\x81ai+\\x9b\\x14\\xc9\\xf5\\x01<\\xef\\xd1\\xdd\\xa0<\\xad]\\xe8\\xdb\\xe7\\xd3)\\xfc\\x10\\xf9E0\\xc3c\\xab\\xae \\x82\\x01.\\x1c\\xb1\\xca\\xc4c|\\xdc$\\xd4\\x84M\\xbc{ \\xaa`\\xac\\xb0\\x9cu\\x83\\xd9\\xe0xA\\xban\\x8d\\x06\\x10S\\x95S\\xe6X\\xb47\"\\x15}G\\x89\\xc4\\xa2\\xccJ\\x1e\\xb9\\xb2S\\xb0\\x07\\xfd\\x0cl\\xf7\\xb6e\\xf8\\xba\\xd7,v&\\xfd\\xdb4\\x12\\xa8\\x18yw\\x07\\x98\\xab9\\x8c\\xf7\\xdb\\xfaW\\x82\\xa9\\xf9_\\xec\\xf7b;\\'\\\\<L`]\\xef\\x0b\\xc2=\\xd6\\xe3I\\xd2\\x11\\xff\\x94\\xb2\\x12\\xc6\\x86\\xc7hLk\\x00\\xa8e[;=\\xa5F\\x88\\xf8\\xb2\\xd09\\xc9[\\xf9\\xd3\\xdcH\\xc1\\x841\\xa8\\xee\\xe9\\xe9\\xf8%\\x0bw\\xd4\\xfd\\t\\x7fvv4\\xff\\xfd\\xdc\\x03\\xbd\\x1d*86\\xb8\\xe0Z\\x9bC\\t\\xcc\\xe3f>S:\\x06\\xfe\\xff@\\xc0\\xd5\\xf6)\\xfb\\xae2\\xf9\\x01E\\xbd\\x9e>m@\\xbc\\x1bP\\xd9\\x89D\\x109\\x12VM\\xcf\\xef\\xa3T\\x82\\xbc<\\x93\\x8e\\xdc\\xcb\\xa1i\\xe0\\x1c\\x17\\xcb\\xb1\\x0b\\xee9k8+\\xa9\\xda\\xb3k\\xa6\\x1d7\\xfc\\xa5:\\x88\\x8e\\xfds+\\x84J\\x8e\\xa1)\\xea\\xb4\\xc8\\x04\\xd8\\xb9\\x1d\\xf7\\x97#\\xce\\x9a\\x95\\x9a\\x9c\\xc3{\\x8f\\xbb\\x84\\x17\\x13\\xberr\\xa4\\xca\\x08\\r\\xedD\\xb2\\x0f\\x87\\xc4\\t\\xb5\\xef\\xc6\\xc7_h\\x06J\\xe0\\x8f\\x13\\xa2^Qw\"\\xa0\\x9f)\\x9e\\xdc,\\xf3[\\x07b\\xed%\\xc1\\x90\\xf9H\\x191\\xedo\\x97\\xe6\\xa7>\\xd0\\xd6\\xcd\\xe5\\xed\\xb3^\\xf4G(YSD\\xef\\xd1\\x19\\xa0x\\x9a\\xd0\\x06\\xb8\\xdaSf\\xc1q\\xb2\\xe4\\x93m\\xa0\\xd6@\\xe8\\xc1\\x08\\x00\\xa0\\xff:D\\x96i\\xf2\\xb1QL\\x81\\xa4\\xf3\\x1b\\x8a\\x7f)\\x8a\\xc2\\xebtg\\x9f\\xe6gd\\x00\\x00\\x02\\x17\\x01\\x00\\n', b'0000000000000000000000000000000000000000000000000000000000000000\\n', b'0000000000000000000000000000000000000000000000000000000000000000\\n', b'0000000000000000000000000000000000000000000000000000000000000000\\n', b'0000000000000000000000000000000000000000000000000000000000000000\\n', b'0000000000000000000000000000000000000000000000000000000000000000\\n', b'0000000000000000000000000000000000000000000000000000000000000000\\n', b'0000000000000000000000000000000000000000000000000000000000000000\\n', b'0000000000000000000000000000000000000000000000000000000000000000\\n', b'cleartomark\\n', b'\\x00\\x00\\x00\\x02\\x05\\x00\\x00\\x00\\x01\\x00\\x00\\x00 (\\x00\\x00\\x1f(\\x00\\x00\\x00z\\x00\\x00\\x00\\x00\\x00\\x00\\x00\\x00\\x00\\x1c\\x00z\\x00\\x00POST\\x00\\x06\\x00\\n', b'\\x01\\xf5\\xff\\xff\\x00\\x00\\x00\\x00\\x00\\x00\\x00\\x00\\x01\\xf6\\xff\\xff\\x00\\x00\\x02\\xa6\\x00\\x00\\x00\\x00\\x01\\xf7\\xff\\xff\\x00\\x00\\n', b'\\xaa\\x00\\x00\\x00\\x00\\x01\\xf8\\xff\\xff\\x00\\x00\\x12\\xae\\x00\\x00\\x00\\x00\\x01\\xf9\\xff\\xff\\x00\\x00\\x1a\\xb2\\x00\\x00\\x00\\x00\\x01\\xfa\\xff\\xff\\x00\\x00\\x1d\\x07\\x00\\x00\\x00\\x00\\x01\\xfb\\xff\\xff\\x00\\x00\\x1f\"\\x00\\x00\\x00\\x00\\x00\\x00\\x00\\x00\\x00\\x00\\x00\\x00\\x00\\x00\\x00\\x00\\x00\\x00\\x00\\x00\\x00\\x00\\x00\\x00\\x00\\x00\\x00\\x00\\x00\\x00\\x00\\x00\\x00\\x00\\x00\\x00\\x00\\x00\\x00\\x00\\x00\\x00\\x00\\x00\\x00\\x00\\x00\\x00\\x00\\x00\\x00\\x00\\x00\\x00\\x00\\x00\\x00\\x00\\x00\\x00\\x00\\x00\\x00\\x00\\x00\\x00\\x00\\x00\\x00\\x00\\x00\\x00\\x00\\x00\\x00\\x00\\x00\\x00\\x00\\x00\\x00\\x00\\x00\\x00\\x00\\x00\\x00\\x00\\x00\\x00\\x00\\x00\\x00\\x00\\x00\\x00\\x00\\x00']\n"
     ]
    }
   ],
   "source": [
    " # opening a binary file\n",
    "    \n",
    "with open ('slick.bin','rb') as fp:\n",
    "    print(fp.readlines())"
   ]
  },
  {
   "cell_type": "code",
   "execution_count": 1,
   "id": "c9bab34c",
   "metadata": {},
   "outputs": [
    {
     "name": "stdout",
     "output_type": "stream",
     "text": [
      "This is in read plus write modeThis is in read plus write mode\n"
     ]
    }
   ],
   "source": [
    "## reading the file in binary\n",
    "\n",
    "try:\n",
    "    with open('example.txt','r') as fp:\n",
    "        print(fp.read())\n",
    "except IOError:\n",
    "    print(\"File not found\")"
   ]
  },
  {
   "cell_type": "code",
   "execution_count": 7,
   "id": "6a0e83f4",
   "metadata": {},
   "outputs": [],
   "source": [
    "\"\"\"with open(\"line.txt\",'w') as fp:\n",
    "    fp.writelines(\"first_line\\n\")\n",
    "    fp.writelines(\"second_line\\n\")\n",
    "    fp.writelines(\"Third_line\\n\")\n",
    "    fp.writelines(\"fourth_line\\n\")\"\"\"\n",
    "    \n",
    "## creating the file that has the list of write_lines"
   ]
  },
  {
   "cell_type": "code",
   "execution_count": 15,
   "id": "2ee4e4b4",
   "metadata": {},
   "outputs": [
    {
     "name": "stdout",
     "output_type": "stream",
     "text": [
      "first_line\n",
      "\n",
      "second_line\n",
      "\n",
      "Third_line\n",
      "\n"
     ]
    }
   ],
   "source": [
    "## reading the lines one after another\n",
    "\n",
    "try:\n",
    "    with open('line.txt','r') as fp:\n",
    "        print(fp.readline())\n",
    "        print(fp.readline())\n",
    "        print(fp.readline())\n",
    "except IOError:\n",
    "    print(\"File not found\")"
   ]
  },
  {
   "cell_type": "code",
   "execution_count": 16,
   "id": "a54db2f3",
   "metadata": {},
   "outputs": [
    {
     "name": "stdout",
     "output_type": "stream",
     "text": [
      "['first_line\\n', 'second_line\\n', 'Third_line\\n', 'fourth_line\\n']\n"
     ]
    }
   ],
   "source": [
    "try:\n",
    "    with open('line.txt','r') as fp:\n",
    "        print(fp.readlines())\n",
    "        \n",
    "except IOError:\n",
    "    print(\"File not found\")"
   ]
  },
  {
   "cell_type": "code",
   "execution_count": 19,
   "id": "950658ab",
   "metadata": {},
   "outputs": [
    {
     "name": "stdout",
     "output_type": "stream",
     "text": [
      "['first_line\\n', 'second_line\\n', 'Third_line\\n']\n"
     ]
    }
   ],
   "source": [
    "#Reading first N lines from a file\n",
    "# reading through the list comprehension \n",
    "\n",
    "try:\n",
    "    N=3\n",
    "    with open('line.txt','r') as fp:\n",
    "        head = [next(fp) for x in range(N)]\n",
    "        print(head)\n",
    "\n",
    "except IOError:\n",
    "    print(\"File not found\")"
   ]
  },
  {
   "cell_type": "code",
   "execution_count": 20,
   "id": "b98eb266",
   "metadata": {},
   "outputs": [
    {
     "name": "stdout",
     "output_type": "stream",
     "text": [
      "['first_line\\n', 'second_line\\n', 'Third_line\\n']\n"
     ]
    }
   ],
   "source": [
    "#Reading first N lines from a file\n",
    "# reading through the readlines funcrion\n",
    "\n",
    "\n",
    "try:\n",
    "    N=3\n",
    "    with open('line.txt','r') as fp:\n",
    "        head = fp.readlines()[:3]\n",
    "        print(head)\n",
    "\n",
    "except IOError:\n",
    "    print(\"File not found\")"
   ]
  },
  {
   "cell_type": "code",
   "execution_count": 21,
   "id": "00bdd072",
   "metadata": {},
   "outputs": [
    {
     "name": "stdout",
     "output_type": "stream",
     "text": [
      "['Third_line\\n', 'fourth_line\\n']\n"
     ]
    }
   ],
   "source": [
    "## reading the last  lines from the file\n",
    "\n",
    "\n",
    "try:\n",
    "    N=2\n",
    "    with open('line.txt','r') as fp:\n",
    "        head = fp.readlines()[2:]\n",
    "        print(head)\n",
    "\n",
    "except IOError:\n",
    "    print(\"File not found\")\n"
   ]
  },
  {
   "cell_type": "code",
   "execution_count": 26,
   "id": "977929fa",
   "metadata": {},
   "outputs": [
    {
     "name": "stdout",
     "output_type": "stream",
     "text": [
      "first_line\n",
      "seco\n"
     ]
    }
   ],
   "source": [
    "## Reading N Bytes From The File\n",
    "\n",
    "try:\n",
    "    with open('line.txt','r') as fp:\n",
    "        print(fp.read(15))\n",
    "except IOError:\n",
    "    print(\"File not found\")"
   ]
  },
  {
   "cell_type": "code",
   "execution_count": 34,
   "id": "aee3f9c8",
   "metadata": {},
   "outputs": [
    {
     "name": "stdout",
     "output_type": "stream",
     "text": [
      "first_line\n",
      "second_line\n",
      "Third_line\n",
      "fourth_line\n",
      "fifth_line\n",
      "fifth_line\n",
      "fifth_line\n",
      "fifth_line\n",
      "\n",
      "\n"
     ]
    }
   ],
   "source": [
    "## reading and writing into the same file\n",
    "\n",
    "\n",
    "\n",
    "try:\n",
    "    with open('line.txt','r+') as fp:\n",
    "        ## reading from the file\n",
    "        print(fp.read())\n",
    "        \n",
    "        ## writing into the file\n",
    "        fp.writelines('fifth_line\\n')\n",
    "        \n",
    "        print(fp.read())\n",
    "        \n",
    "        fp.close()\n",
    "        \n",
    "        \n",
    "except IOError:\n",
    "    print(\"File not found\")"
   ]
  },
  {
   "cell_type": "code",
   "execution_count": 4,
   "id": "96eeac18",
   "metadata": {},
   "outputs": [
    {
     "name": "stdout",
     "output_type": "stream",
     "text": [
      "fifth_line\n",
      "\n",
      "fifth_line\n",
      "\n",
      "fifth_line\n",
      "\n",
      "fifth_line\n",
      "\n",
      "fifth_line\n",
      "\n",
      "fourth_line\n",
      "\n",
      "Third_line\n",
      "\n",
      "second_line\n",
      "\n",
      "first_line\n",
      "\n"
     ]
    }
   ],
   "source": [
    "## reading files in reverse order\n",
    "\n",
    "with open('line.txt','r') as fp:\n",
    "    lines = fp.readlines()\n",
    "    \n",
    "    for i in reversed(lines):\n",
    "        print(i)\n",
    "    "
   ]
  },
  {
   "cell_type": "code",
   "execution_count": 5,
   "id": "179778fc",
   "metadata": {},
   "outputs": [
    {
     "name": "stdout",
     "output_type": "stream",
     "text": [
      "b'\\x00\\x05Slick\\x00\\x00\\x00\\x00\\x00\\x00\\x00\\x00\\x00\\x00\\x00\\x00\\x00\\x00\\x00\\x00\\x00\\x00\\x00\\x00\\x00\\x00\\x00\\x00\\x00\\x00\\x00\\x00\\x00\\x00\\x00\\x00\\x00\\x00\\x00\\x00\\x00\\x00\\x00\\x00\\x00\\x00\\x00\\x00\\x00\\x00\\x00\\x00\\x00\\x00\\x00\\x00\\x00\\x00\\x00\\x00\\x00\\x00LWFNGWp1\\x00\\x00\\x00\\x00\\x00\\x00\\x00\\x00\\x00\\x00\\x00\\x00\\x00\\x00\\x00\\x00 \\xa2]\\xeb\\t\\xba]\\xeb\\t\\xba\\x00'\n"
     ]
    }
   ],
   "source": [
    "## reading a binary file\n",
    "\n",
    "try:\n",
    "    with open('slick.bin','rb') as fp:\n",
    "        print(fp.read(100))\n",
    "except IOError:\n",
    "    print(\"File not found\")"
   ]
  },
  {
   "cell_type": "code",
   "execution_count": 6,
   "id": "a61107c7",
   "metadata": {},
   "outputs": [
    {
     "name": "stdout",
     "output_type": "stream",
     "text": [
      "3\n",
      "s is in read plus write modeThis is in read plus write mode\n",
      "Demonstrating tell\n",
      "Demonstrating tell\n"
     ]
    }
   ],
   "source": [
    "## seek \n",
    "# seek() method sets the file’s current position, and then we can read or write to the file from that position.\n",
    "\n",
    "try:\n",
    "    with open ('example.txt','r') as fp:\n",
    "        print(fp.seek(3)) ## shifting the pointer at 3rd position.\n",
    "        print(fp.read())\n",
    "except IOError:\n",
    "    print(\"File not found\")\n",
    "    \n",
    "\n"
   ]
  },
  {
   "cell_type": "code",
   "execution_count": 7,
   "id": "3f7fd3d5",
   "metadata": {},
   "outputs": [
    {
     "name": "stdout",
     "output_type": "stream",
     "text": [
      "102\n",
      "\n"
     ]
    }
   ],
   "source": [
    "# Moving the file handle to the end of the file\n",
    "try:\n",
    "    with open ('example.txt','r') as fp:\n",
    "        print(fp.seek(0,2)) ## shifting the pointer at 3rd position.\n",
    "        print(fp.read())\n",
    "except IOError:\n",
    "    print(\"File not found\")"
   ]
  },
  {
   "cell_type": "code",
   "execution_count": 8,
   "id": "4ebd1df6",
   "metadata": {},
   "outputs": [
    {
     "name": "stdout",
     "output_type": "stream",
     "text": [
      "\u0000\u0000mBIN\u0000\u0000\u0000\u0000\u0000\u0000\u0000\u0000\u0000\n",
      "(\u0000\u0000\u001f(\u0000\n"
     ]
    }
   ],
   "source": [
    "## reading a binary file and Convert byte to string and read\n",
    "\n",
    "try:\n",
    "    with open('slick.bin','rb') as fp:\n",
    "        fp.seek(100)\n",
    "        # read 5 bytes and convert it to string\n",
    "        print(fp.read(15).decode('utf-8'))\n",
    "        \n",
    "        # Move the fp 10 points ahead from current position\n",
    "        # read 5 bytes and convert it to string \n",
    "        fp.seek(20,1)\n",
    "        ## again read 6 bytes and convert then to strings\n",
    "        print(fp.read(6).decode(\"utf-8\"))\n",
    "        \n",
    "except IOError:\n",
    "    print(\"File not found\")"
   ]
  },
  {
   "cell_type": "code",
   "execution_count": 9,
   "id": "b8723172",
   "metadata": {},
   "outputs": [
    {
     "name": "stdout",
     "output_type": "stream",
     "text": [
      "\u001f\"\u0000\u0000\u0000\u0000\u0000\n"
     ]
    }
   ],
   "source": [
    "## seek backward with negative offset\n",
    "\n",
    "try:\n",
    "    with open ('slick.bin','rb') as fp:\n",
    "        # Move in reverse direction\n",
    "    # move to the 40th character from the end of the file\n",
    "        fp.seek(-100,2)\n",
    "        \n",
    "        print(fp.read(7).decode(\"utf-8\"))\n",
    "except IOError:\n",
    "    print(\"File not found\")"
   ]
  },
  {
   "cell_type": "code",
   "execution_count": 10,
   "id": "2bfc10b1",
   "metadata": {},
   "outputs": [
    {
     "name": "stdout",
     "output_type": "stream",
     "text": [
      "\u0000\u0005Slick\u0000\u0000\u0000\u0000\u0000\u0000\u0000\u0000\n",
      "\u0000\u0000\u0000\u0000\u0000\u0000\n"
     ]
    }
   ],
   "source": [
    "## seek backward with negative offset\n",
    "\n",
    "try:\n",
    "    with open ('slick.bin','rb') as fp:\n",
    "         # read 5 bytes and convert it to string\n",
    "        print(fp.read(15).decode('utf-8'))\n",
    "        # move to the 5th behind from current position\n",
    "        fp.seek(-5,1)\n",
    "        print(fp.read(6).decode(\"utf-8\"))\n",
    "except IOError:\n",
    "    print(\"File not found\")"
   ]
  },
  {
   "cell_type": "code",
   "execution_count": 11,
   "id": "c15686f5",
   "metadata": {},
   "outputs": [
    {
     "name": "stdout",
     "output_type": "stream",
     "text": [
      "file-handle at 102\n",
      "file-handle at 122\n"
     ]
    }
   ],
   "source": [
    "#tell() Function To Get File Handle Position\n",
    "\n",
    "#While the file’s access mode implies the type of operation that we intend to perform in the file, it also determines the\n",
    "#filehandle position. For example, if the file is opened in reading, the file handle will be in the beginning, and after \n",
    "#reading the entire file, it will be in the last character, which is the End of the File.\n",
    "\n",
    "#We can get the file handle current position using the tell() method.\n",
    "\n",
    "\n",
    "with open('example.txt','r+') as fp:\n",
    "    fp.seek(0,2)\n",
    "    \n",
    "    print(\"file-handle at\",fp.tell()) #Get File Handle Position\n",
    "    \n",
    "    # writing new content\n",
    "    fp.write(\"\\nDemonstrating tell\")\n",
    "\n",
    "    #\n",
    "    print(\"file-handle at\",fp.tell()) #\n",
    "\n",
    "\n",
    "\n"
   ]
  },
  {
   "cell_type": "code",
   "execution_count": 15,
   "id": "b87e844c",
   "metadata": {},
   "outputs": [],
   "source": [
    "#Renaming a file in Python\n",
    "\n",
    "import os\n",
    "\n",
    "old_path = r'C:\\Users\\ASUS\\Desktop\\Python\\Statistics\\old_file.txt'\n",
    "new_path = r'C:\\Users\\ASUS\\Desktop\\Python\\Statistics\\new_file.txt'\n",
    "\n",
    "\n",
    "## renaming the file\n",
    "\n",
    "os.rename(old_path,new_path) ## the old_file.txt has been renamed to new_file.txt\n",
    "\n"
   ]
  },
  {
   "cell_type": "code",
   "execution_count": 16,
   "id": "00a46313",
   "metadata": {},
   "outputs": [
    {
     "name": "stdout",
     "output_type": "stream",
     "text": [
      "File already created\n"
     ]
    }
   ],
   "source": [
    "## renaming the file but checking the condition if the file already exists\n",
    "\n",
    "old_path = r'C:\\Users\\ASUS\\Desktop\\Python\\Statistics\\old_file.txt'\n",
    "new_path = r'C:\\Users\\ASUS\\Desktop\\Python\\Statistics\\new_file.txt'\n",
    "\n",
    "if os.path.exists(new_path):\n",
    "    print(\"File already created\")\n",
    "else:\n",
    "    os.rename(old_path,new_path)\n"
   ]
  },
  {
   "cell_type": "code",
   "execution_count": 16,
   "id": "833bb441",
   "metadata": {},
   "outputs": [
    {
     "name": "stdout",
     "output_type": "stream",
     "text": [
      "['.ipynb_checkpoints', '28-03-2023.txt', 'Dev.txt', 'example.txt', 'file-28-03-2023-16-03-28.txt', 'File_Handling.ipynb', 'line.txt', 'logger_file_28-03-2023.txt', 'new_doc.txt', 'old_docs.txt', 'OOPS.ipynb', 'purchase.txt', 'python-data-types.jpg', 'Python_datatypes.ipynb', 'sales.txt', 'sales_10_newfile.txt', 'sales_11_newfile.txt', 'sales_12_newfile.txt', 'sale_1.txt', 'slick.bin']\n"
     ]
    }
   ],
   "source": [
    "## renaming only a list of files from the folder\n",
    "import os\n",
    "\n",
    "files_list = ['sales_10.txt','sales_11.txt','sales_12.txt']\n",
    "\n",
    "folder = r'C:\\Users\\ASUS\\Desktop\\pandas-demo\\Python\\\\'\n",
    "\n",
    "\n",
    "## iterate through the folder\n",
    "\n",
    "for files in os.listdir(folder):\n",
    "## checking if the file is in the list\n",
    "\n",
    "    if files in files_list:\n",
    "        # construct current name using file name and path\n",
    "        old_name = os.path.join(folder,files)\n",
    "        \n",
    "        ## getting file without the extension\n",
    "        \n",
    "        file_name = os.path.splitext(files)[0]\n",
    "        \n",
    "        \n",
    "        ## adding new_name with extension\n",
    "        new_base = file_name + '_newfile' + '.txt'\n",
    "        \n",
    "        ## constructing the full path\n",
    "        \n",
    "        new_name = os.path.join(folder,new_base)\n",
    "        \n",
    "        \n",
    "        ## renaming the file\n",
    "        \n",
    "        os.rename(old_name,new_name)\n",
    "        \n",
    "        \n",
    "res = os.listdir(folder)\n",
    "print(res)\n",
    "    \n",
    "\n",
    "\n",
    "\n",
    "\n",
    "\n",
    "\n",
    "\n",
    "\n",
    "\n",
    "\n",
    "\n",
    "\n",
    "\n",
    "\n",
    "\n"
   ]
  },
  {
   "cell_type": "code",
   "execution_count": 20,
   "id": "44edf761",
   "metadata": {},
   "outputs": [
    {
     "name": "stdout",
     "output_type": "stream",
     "text": [
      "File not found\n",
      "['.ipynb_checkpoints', '28-03-2023.txt', 'Dev.txt', 'example.txt', 'file-28-03-2023-16-03-28.txt', 'File_Handling.ipynb', 'line.txt', 'logger_file_28-03-2023.txt', 'new_doc.txt', 'old_docs.txt', 'OOPS.ipynb', 'purchase.txt', 'python-data-types.jpg', 'Python_datatypes.ipynb', 'sales.txt', 'sales_10_newfile.txt', 'sales_11_newfile.txt', 'sales_12_newfile.txt', 'sale_105-Apr-2023.txt', 'slick.bin']\n"
     ]
    }
   ],
   "source": [
    "#Renaming files with a timestamp\n",
    "\n",
    "from datetime import datetime\n",
    "\n",
    "try:\n",
    "    current_time = datetime.now().strftime('%d-%b-%Y')\n",
    "    old_name = r'C:\\Users\\ASUS\\Desktop\\pandas-demo\\Python\\sale_1.txt'\n",
    "    new_name = r'C:\\Users\\ASUS\\Desktop\\pandas-demo\\Python\\sale_1' + current_time + '.txt'\n",
    "    \n",
    "    os.rename(old_name,new_name)\n",
    "except IOError:\n",
    "    print(\"File not found\")\n",
    "\n",
    "    \n",
    "print(os.listdir())\n"
   ]
  },
  {
   "cell_type": "code",
   "execution_count": null,
   "id": "3aae2ff5",
   "metadata": {},
   "outputs": [],
   "source": []
  },
  {
   "cell_type": "code",
   "execution_count": null,
   "id": "98896d47",
   "metadata": {},
   "outputs": [],
   "source": []
  },
  {
   "cell_type": "code",
   "execution_count": null,
   "id": "fe74e5de",
   "metadata": {},
   "outputs": [],
   "source": []
  },
  {
   "cell_type": "code",
   "execution_count": null,
   "id": "0c6f8791",
   "metadata": {},
   "outputs": [],
   "source": []
  },
  {
   "cell_type": "code",
   "execution_count": null,
   "id": "e3c915d1",
   "metadata": {},
   "outputs": [],
   "source": []
  },
  {
   "cell_type": "code",
   "execution_count": null,
   "id": "85555630",
   "metadata": {},
   "outputs": [],
   "source": []
  },
  {
   "cell_type": "code",
   "execution_count": null,
   "id": "9f20e282",
   "metadata": {},
   "outputs": [],
   "source": []
  }
 ],
 "metadata": {
  "kernelspec": {
   "display_name": "Python 3 (ipykernel)",
   "language": "python",
   "name": "python3"
  },
  "language_info": {
   "codemirror_mode": {
    "name": "ipython",
    "version": 3
   },
   "file_extension": ".py",
   "mimetype": "text/x-python",
   "name": "python",
   "nbconvert_exporter": "python",
   "pygments_lexer": "ipython3",
   "version": "3.8.16"
  }
 },
 "nbformat": 4,
 "nbformat_minor": 5
}
